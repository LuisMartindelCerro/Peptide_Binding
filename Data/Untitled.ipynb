{
 "cells": [
  {
   "cell_type": "code",
   "execution_count": null,
   "id": "c370a652-4f03-465b-bcc0-9d2db3a79e49",
   "metadata": {},
   "outputs": [],
   "source": []
  }
 ],
 "metadata": {
  "kernelspec": {
   "display_name": "",
   "name": ""
  },
  "language_info": {
   "name": ""
  }
 },
 "nbformat": 4,
 "nbformat_minor": 5
}
